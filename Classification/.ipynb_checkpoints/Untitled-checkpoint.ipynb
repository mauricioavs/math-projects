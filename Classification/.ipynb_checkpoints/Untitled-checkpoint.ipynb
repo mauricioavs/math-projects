{
 "cells": [
  {
   "cell_type": "code",
   "execution_count": 1,
   "id": "fe4bca04",
   "metadata": {},
   "outputs": [
    {
     "name": "stderr",
     "output_type": "stream",
     "text": [
      "2023-03-24 19:22:13.957152: I tensorflow/core/platform/cpu_feature_guard.cc:193] This TensorFlow binary is optimized with oneAPI Deep Neural Network Library (oneDNN) to use the following CPU instructions in performance-critical operations:  FMA\n",
      "To enable them in other operations, rebuild TensorFlow with the appropriate compiler flags.\n",
      "2023-03-24 19:22:15.064484: W tensorflow/stream_executor/platform/default/dso_loader.cc:64] Could not load dynamic library 'libcudart.so.11.0'; dlerror: libcudart.so.11.0: cannot open shared object file: No such file or directory\n",
      "2023-03-24 19:22:15.064545: I tensorflow/stream_executor/cuda/cudart_stub.cc:29] Ignore above cudart dlerror if you do not have a GPU set up on your machine.\n",
      "2023-03-24 19:22:15.235171: E tensorflow/stream_executor/cuda/cuda_blas.cc:2981] Unable to register cuBLAS factory: Attempting to register factory for plugin cuBLAS when one has already been registered\n",
      "2023-03-24 19:22:18.473084: W tensorflow/stream_executor/platform/default/dso_loader.cc:64] Could not load dynamic library 'libnvinfer.so.7'; dlerror: libnvinfer.so.7: cannot open shared object file: No such file or directory\n",
      "2023-03-24 19:22:18.473596: W tensorflow/stream_executor/platform/default/dso_loader.cc:64] Could not load dynamic library 'libnvinfer_plugin.so.7'; dlerror: libnvinfer_plugin.so.7: cannot open shared object file: No such file or directory\n",
      "2023-03-24 19:22:18.473632: W tensorflow/compiler/tf2tensorrt/utils/py_utils.cc:38] TF-TRT Warning: Cannot dlopen some TensorRT libraries. If you would like to use Nvidia GPU with TensorRT, please make sure the missing libraries mentioned above are installed properly.\n"
     ]
    }
   ],
   "source": [
    "import numpy as np\n",
    "import matplotlib.pyplot as plt\n",
    "import tensorflow as tf\n",
    "from keras.utils import to_categorical\n",
    "from keras.preprocessing.image import ImageDataGenerator\n",
    "from keras.models import Sequential\n",
    "from keras.layers import Dense, Dropout, Flatten, Conv2D, MaxPooling2D\n",
    "from keras.optimizers import Adam\n",
    "from sklearn.model_selection import train_test_split"
   ]
  },
  {
   "cell_type": "markdown",
   "id": "bb1232ac",
   "metadata": {},
   "source": [
    "Obtenemos nuestras imágenes train y dev de la base de datos \"Flower Recognition\":\n",
    "https://www.kaggle.com/datasets/alxmamaev/flowers-recognition/versions/2?resource=download\n",
    "\n",
    "Se propone un tamaño inicial de 64x64 para que el entrenamiento sea más rápido. Las imágenes originales son de un tamaño mayor, por lo que se perderán características, pero esto no importa mucho pues se hace sólo con propósitos de exposición. Además, no se generan más imágenes haciendo variaciones y se entrenan pocas épocas."
   ]
  },
  {
   "cell_type": "code",
   "execution_count": 2,
   "id": "ec5d130c",
   "metadata": {},
   "outputs": [
    {
     "name": "stdout",
     "output_type": "stream",
     "text": [
      "Found 3457 images belonging to 5 classes.\n",
      "Found 860 images belonging to 5 classes.\n"
     ]
    }
   ],
   "source": [
    "train_datagen = ImageDataGenerator(rescale=1./255, validation_split=0.2)\n",
    "train_generator = train_datagen.flow_from_directory(\n",
    "    'flowers',\n",
    "    target_size=(64, 64),\n",
    "    batch_size=32,\n",
    "    class_mode='categorical',\n",
    "    subset='training')\n",
    "validation_generator = train_datagen.flow_from_directory(\n",
    "    'flowers',\n",
    "    target_size=(64, 64),\n",
    "    batch_size=32,\n",
    "    class_mode='categorical',\n",
    "    subset='validation')"
   ]
  },
  {
   "cell_type": "markdown",
   "id": "0c5d4d69",
   "metadata": {},
   "source": [
    "Construimos modelo"
   ]
  },
  {
   "cell_type": "code",
   "execution_count": 4,
   "id": "cdc4784c",
   "metadata": {},
   "outputs": [
    {
     "name": "stderr",
     "output_type": "stream",
     "text": [
      "2023-03-24 19:22:25.942727: W tensorflow/stream_executor/platform/default/dso_loader.cc:64] Could not load dynamic library 'libcuda.so.1'; dlerror: libcuda.so.1: cannot open shared object file: No such file or directory\n",
      "2023-03-24 19:22:25.942819: W tensorflow/stream_executor/cuda/cuda_driver.cc:263] failed call to cuInit: UNKNOWN ERROR (303)\n",
      "2023-03-24 19:22:25.942872: I tensorflow/stream_executor/cuda/cuda_diagnostics.cc:156] kernel driver does not appear to be running on this host (mauricio-SVF14423CLW): /proc/driver/nvidia/version does not exist\n",
      "2023-03-24 19:22:25.943473: I tensorflow/core/platform/cpu_feature_guard.cc:193] This TensorFlow binary is optimized with oneAPI Deep Neural Network Library (oneDNN) to use the following CPU instructions in performance-critical operations:  FMA\n",
      "To enable them in other operations, rebuild TensorFlow with the appropriate compiler flags.\n"
     ]
    }
   ],
   "source": [
    "model = Sequential()\n",
    "model.add(Conv2D(filters=16, kernel_size=(5, 5), padding='same',\n",
    "                 activation='relu', input_shape=(64, 64, 3)))\n",
    "model.add(MaxPooling2D(pool_size=(2, 2)))\n",
    "  \n",
    "model.add(Conv2D(filters=32, kernel_size=(3, 3),\n",
    "                 padding='same', activation='relu'))\n",
    "model.add(MaxPooling2D(pool_size=(2, 2), strides=(2, 2)))\n",
    "  \n",
    "model.add(Flatten())\n",
    "model.add(Dense(128, activation = \"relu\"))\n",
    "model.add(Dropout(0.5))\n",
    "model.add(Dense(5, activation=\"softmax\"))\n",
    "model.compile(optimizer=tf.keras.optimizers.Adam(),\n",
    "              loss='categorical_crossentropy', metrics=['accuracy'])"
   ]
  },
  {
   "cell_type": "markdown",
   "id": "9216cb09",
   "metadata": {},
   "source": [
    "Generamos variaciones en las imágenes y entrenamos el modelo."
   ]
  },
  {
   "cell_type": "code",
   "execution_count": 5,
   "id": "55d37f68",
   "metadata": {},
   "outputs": [
    {
     "name": "stdout",
     "output_type": "stream",
     "text": [
      "Epoch 1/10\n",
      "109/109 [==============================] - 45s 399ms/step - loss: 1.4578 - accuracy: 0.3497 - val_loss: 1.2191 - val_accuracy: 0.5023\n",
      "Epoch 2/10\n",
      "109/109 [==============================] - 42s 386ms/step - loss: 1.1930 - accuracy: 0.5036 - val_loss: 1.1255 - val_accuracy: 0.5488\n",
      "Epoch 3/10\n",
      "109/109 [==============================] - 42s 386ms/step - loss: 1.1038 - accuracy: 0.5574 - val_loss: 1.0473 - val_accuracy: 0.5791\n",
      "Epoch 4/10\n",
      "109/109 [==============================] - 45s 410ms/step - loss: 1.0313 - accuracy: 0.5939 - val_loss: 1.0402 - val_accuracy: 0.5953\n",
      "Epoch 5/10\n",
      "109/109 [==============================] - 45s 409ms/step - loss: 0.9355 - accuracy: 0.6312 - val_loss: 1.0137 - val_accuracy: 0.5930\n",
      "Epoch 6/10\n",
      "109/109 [==============================] - 46s 418ms/step - loss: 0.8779 - accuracy: 0.6543 - val_loss: 0.9889 - val_accuracy: 0.6070\n",
      "Epoch 7/10\n",
      "109/109 [==============================] - 44s 399ms/step - loss: 0.7733 - accuracy: 0.7107 - val_loss: 0.9871 - val_accuracy: 0.6209\n",
      "Epoch 8/10\n",
      "109/109 [==============================] - 43s 393ms/step - loss: 0.7037 - accuracy: 0.7223 - val_loss: 0.9994 - val_accuracy: 0.6140\n",
      "Epoch 9/10\n",
      "109/109 [==============================] - 51s 471ms/step - loss: 0.6485 - accuracy: 0.7498 - val_loss: 1.0556 - val_accuracy: 0.6035\n",
      "Epoch 10/10\n",
      "109/109 [==============================] - 48s 441ms/step - loss: 0.5895 - accuracy: 0.7842 - val_loss: 1.0243 - val_accuracy: 0.6116\n"
     ]
    }
   ],
   "source": [
    "batch_size = 32\n",
    "history = model.fit(train_generator, epochs=10, validation_data=validation_generator)\n"
   ]
  },
  {
   "cell_type": "markdown",
   "id": "565a037b",
   "metadata": {},
   "source": [
    "Imprimimos métricas"
   ]
  },
  {
   "cell_type": "code",
   "execution_count": 6,
   "id": "53a859c6",
   "metadata": {},
   "outputs": [
    {
     "name": "stdout",
     "output_type": "stream",
     "text": [
      "Accuracy: 53.12%\n"
     ]
    },
    {
     "data": {
      "image/png": "[encoded data removed]",
      "text/plain": [
       "<Figure size 640x480 with 1 Axes>"
      ]
     },
     "metadata": {},
     "output_type": "display_data"
    }
   ],
   "source": [
    "scores = model.evaluate(X_test, y_test, verbose=0)\n",
    "print(\"Accuracy: %.2f%%\" % (scores[1]*100))\n",
    "\n",
    "plt.plot(history.history['accuracy'], label='Training Accuracy')\n",
    "plt.plot(history.history['val_accuracy'], label='Validation Accuracy')\n",
    "plt.legend()\n",
    "plt.show()\n"
   ]
  }
 ],
 "metadata": {
  "kernelspec": {
   "display_name": "Python 3 (ipykernel)",
   "language": "python",
   "name": "python3"
  },
  "language_info": {
   "codemirror_mode": {
    "name": "ipython",
    "version": 3
   },
   "file_extension": ".py",
   "mimetype": "text/x-python",
   "name": "python",
   "nbconvert_exporter": "python",
   "pygments_lexer": "ipython3",
   "version": "3.9.12"
  }
 },
 "nbformat": 4,
 "nbformat_minor": 5
}
